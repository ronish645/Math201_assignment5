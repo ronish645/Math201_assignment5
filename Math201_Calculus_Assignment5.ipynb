{
  "nbformat": 4,
  "nbformat_minor": 0,
  "metadata": {
    "colab": {
      "provenance": [],
      "authorship_tag": "ABX9TyM3CP0V+Topgw26GyrYulzf",
      "include_colab_link": true
    },
    "kernelspec": {
      "name": "python3",
      "display_name": "Python 3"
    },
    "language_info": {
      "name": "python"
    }
  },
  "cells": [
    {
      "cell_type": "markdown",
      "metadata": {
        "id": "view-in-github",
        "colab_type": "text"
      },
      "source": [
        "<a href=\"https://colab.research.google.com/github/ronish645/Math201_assignment5/blob/main/Math201_Calculus_Assignment5.ipynb\" target=\"_parent\"><img src=\"https://colab.research.google.com/assets/colab-badge.svg\" alt=\"Open In Colab\"/></a>"
      ]
    },
    {
      "cell_type": "code",
      "execution_count": 1,
      "metadata": {
        "colab": {
          "base_uri": "https://localhost:8080/"
        },
        "id": "EC3g-nWy6NuJ",
        "outputId": "e192f688-f095-472b-d08a-983e98e3b00f"
      },
      "outputs": [
        {
          "output_type": "stream",
          "name": "stdout",
          "text": [
            "Optimal group size (x): 5.03\n",
            "Minimum average number of tests: 42.62\n"
          ]
        }
      ],
      "source": [
        "#Q.no.1\n",
        "# Import numpy for calculations\n",
        "import numpy as np\n",
        "\n",
        "# Set constants\n",
        "N = 100  # Total number of people\n",
        "q = 0.95  # Probability that one person tests negative\n",
        "\n",
        "# Define a function to calculate the average number of tests\n",
        "def calculate_average_tests(x):\n",
        "    return N * (1 - q**x + 1/x)\n",
        "\n",
        "# Create a list of possible group sizes (1 to 150, with small steps)\n",
        "x_values = np.linspace(1, 150, 1000)\n",
        "\n",
        "# Calculate the average number of tests for each group size\n",
        "average_tests = []\n",
        "for x in x_values:\n",
        "    avg_test = calculate_average_tests(x)\n",
        "    average_tests.append(avg_test)\n",
        "\n",
        "# Find the group size that gives the minimum average tests\n",
        "min_index = average_tests.index(min(average_tests))\n",
        "optimal_x = x_values[min_index]\n",
        "min_tests = average_tests[min_index]\n",
        "\n",
        "# Print the results\n",
        "print(f\"Optimal group size (x): {optimal_x:.2f}\")\n",
        "print(f\"Minimum average number of tests: {min_tests:.2f}\")\n"
      ]
    },
    {
      "cell_type": "code",
      "source": [
        "#Q.no.2\n",
        "# Part (a): Verifying the root of multiplicity 2\n",
        "import sympy as sp\n",
        "\n",
        "# Define the function\n",
        "x = sp.Symbol('x')\n",
        "f = sp.exp(2 * sp.sin(x)) - 2 * x - 1\n",
        "\n",
        "# Calculate function and derivatives at x = 0\n",
        "f_at_0 = f.subs(x, 0)  # Function value at x = 0\n",
        "f_prime = sp.diff(f, x)  # First derivative\n",
        "f_prime_at_0 = f_prime.subs(x, 0)  # First derivative at x = 0\n",
        "f_double_prime = sp.diff(f_prime, x)  # Second derivative\n",
        "f_double_prime_at_0 = f_double_prime.subs(x, 0)  # Second derivative at x = 0\n",
        "\n",
        "# Print results for verification\n",
        "print(\"Part (a): Verifying root\")\n",
        "print(\"f(0):\", f_at_0)  # Should be 0\n",
        "print(\"f'(0):\", f_prime_at_0)  # Should be 0\n",
        "print(\"f''(0):\", f_double_prime_at_0)  # Should NOT be 0\n",
        "print()\n",
        "\n",
        "# Part (b): Newton's Method and Modified Newton's Method\n",
        "import numpy as np\n",
        "\n",
        "# Define the function and its derivative\n",
        "def f(x):\n",
        "    return np.exp(2 * np.sin(x)) - 2 * x - 1\n",
        "\n",
        "def f_prime(x):\n",
        "    return 2 * np.exp(2 * np.sin(x)) * np.cos(x) - 2\n",
        "\n",
        "# Newton's Method\n",
        "def newton_method(x0, iterations):\n",
        "    for _ in range(iterations):\n",
        "        x0 = x0 - f(x0) / f_prime(x0)\n",
        "    return x0\n",
        "\n",
        "# Modified Newton's Method\n",
        "def modified_newton_method(x0, iterations):\n",
        "    for _ in range(iterations):\n",
        "        x0 = x0 - 2 * f(x0) / f_prime(x0)\n",
        "    return x0\n",
        "\n",
        "# Initial guess and number of iterations\n",
        "x0 = 0.1\n",
        "iterations = 9\n",
        "\n",
        "# Find x9 using both methods\n",
        "x9_newton = newton_method(x0, iterations)\n",
        "x9_modified = modified_newton_method(x0, iterations)\n",
        "\n",
        "# Print results for part (b)\n",
        "print(\"Part (b): Newton's Method vs Modified Newton's Method\")\n",
        "print(\"x9 (Newton's Method):\", x9_newton)\n",
        "print(\"x9 (Modified Newton's Method):\", x9_modified)\n",
        "print()\n",
        "\n",
        "# Part (c): Modified Newton's Method for a new function\n",
        "# Define the new function and its derivative\n",
        "def g(x):\n",
        "    return (8 * x**2) / (3 * x**2 + 1)\n",
        "\n",
        "def g_prime(x):\n",
        "    return (48 * x) / (3 * x**2 + 1)**2\n",
        "\n",
        "# Modified Newton's Method for the new function\n",
        "def modified_newton_method_g(x0, iterations):\n",
        "    for _ in range(iterations):\n",
        "        x0 = x0 - 2 * g(x0) / g_prime(x0)\n",
        "    return x0\n",
        "\n",
        "# Initial guess and number of iterations\n",
        "x0 = 0.15\n",
        "\n",
        "# Find x9 using Modified Newton's Method for g\n",
        "x9_modified_g = modified_newton_method_g(x0, iterations)\n",
        "\n",
        "# Print results for part (c)\n",
        "print(\"Part (c): Modified Newton's Method for g(x)\")\n",
        "print(\"x9 (Modified Newton's Method for g):\", x9_modified_g)\n"
      ],
      "metadata": {
        "colab": {
          "base_uri": "https://localhost:8080/"
        },
        "id": "Zw2MxsW473C6",
        "outputId": "5a6655bb-e4f4-453a-c24a-c4f3cd4462cd"
      },
      "execution_count": 2,
      "outputs": [
        {
          "output_type": "stream",
          "name": "stdout",
          "text": [
            "Part (a): Verifying root\n",
            "f(0): 0\n",
            "f'(0): 0\n",
            "f''(0): 4\n",
            "\n",
            "Part (b): Newton's Method vs Modified Newton's Method\n",
            "x9 (Newton's Method): 0.00020483725493164077\n",
            "x9 (Modified Newton's Method): -1.5258027692339302e-11\n",
            "\n",
            "Part (c): Modified Newton's Method for g(x)\n",
            "x9 (Modified Newton's Method for g): 0.0036774043962147117\n"
          ]
        }
      ]
    }
  ]
}